{
 "cells": [
  {
   "cell_type": "code",
   "execution_count": 7,
   "id": "e61937a0",
   "metadata": {},
   "outputs": [],
   "source": [
    "import pandas as pd\n",
    "import matplotlib.pyplot as plt\n",
    "import numpy as np"
   ]
  },
  {
   "cell_type": "code",
   "execution_count": 8,
   "id": "4794a5bc",
   "metadata": {},
   "outputs": [],
   "source": [
    "abtest = pd.read_excel('ABTesting.xlsx')"
   ]
  },
  {
   "cell_type": "code",
   "execution_count": 9,
   "id": "e6c1764a",
   "metadata": {},
   "outputs": [
    {
     "data": {
      "text/html": [
       "<div>\n",
       "<style scoped>\n",
       "    .dataframe tbody tr th:only-of-type {\n",
       "        vertical-align: middle;\n",
       "    }\n",
       "\n",
       "    .dataframe tbody tr th {\n",
       "        vertical-align: top;\n",
       "    }\n",
       "\n",
       "    .dataframe thead th {\n",
       "        text-align: right;\n",
       "    }\n",
       "</style>\n",
       "<table border=\"1\" class=\"dataframe\">\n",
       "  <thead>\n",
       "    <tr style=\"text-align: right;\">\n",
       "      <th></th>\n",
       "      <th>Date</th>\n",
       "      <th>Device</th>\n",
       "      <th>Address</th>\n",
       "      <th>Clicks</th>\n",
       "      <th>Visitors</th>\n",
       "      <th>Group</th>\n",
       "    </tr>\n",
       "  </thead>\n",
       "  <tbody>\n",
       "    <tr>\n",
       "      <th>0</th>\n",
       "      <td>2023-05-18</td>\n",
       "      <td>Mobile</td>\n",
       "      <td>fyttlyf/business/campaign/campaigns-business/c...</td>\n",
       "      <td>159</td>\n",
       "      <td>199</td>\n",
       "      <td>Control</td>\n",
       "    </tr>\n",
       "    <tr>\n",
       "      <th>1</th>\n",
       "      <td>2023-05-18</td>\n",
       "      <td>Laptop</td>\n",
       "      <td>fyttlyf/business/campaign/get-paid///</td>\n",
       "      <td>18</td>\n",
       "      <td>1413</td>\n",
       "      <td>Experiment</td>\n",
       "    </tr>\n",
       "    <tr>\n",
       "      <th>2</th>\n",
       "      <td>2023-05-18</td>\n",
       "      <td>Mobile</td>\n",
       "      <td>fyttlyf/business/campaign/campaigns-business/s...</td>\n",
       "      <td>142</td>\n",
       "      <td>759</td>\n",
       "      <td>Control</td>\n",
       "    </tr>\n",
       "    <tr>\n",
       "      <th>3</th>\n",
       "      <td>2023-05-18</td>\n",
       "      <td>Laptop</td>\n",
       "      <td>fyttlyf/business/product/business-financial-se...</td>\n",
       "      <td>126</td>\n",
       "      <td>473</td>\n",
       "      <td>Control</td>\n",
       "    </tr>\n",
       "    <tr>\n",
       "      <th>4</th>\n",
       "      <td>2023-05-18</td>\n",
       "      <td>Laptop</td>\n",
       "      <td>fyttlyf/business/product/business-accept-payme...</td>\n",
       "      <td>129</td>\n",
       "      <td>183</td>\n",
       "      <td>Control</td>\n",
       "    </tr>\n",
       "    <tr>\n",
       "      <th>...</th>\n",
       "      <td>...</td>\n",
       "      <td>...</td>\n",
       "      <td>...</td>\n",
       "      <td>...</td>\n",
       "      <td>...</td>\n",
       "      <td>...</td>\n",
       "    </tr>\n",
       "    <tr>\n",
       "      <th>18094</th>\n",
       "      <td>2023-05-17</td>\n",
       "      <td>Tablet</td>\n",
       "      <td>fyttlyf/personal/campaign/weekoneoffer-terms///</td>\n",
       "      <td>12</td>\n",
       "      <td>13</td>\n",
       "      <td>Control</td>\n",
       "    </tr>\n",
       "    <tr>\n",
       "      <th>18095</th>\n",
       "      <td>2023-05-17</td>\n",
       "      <td>Mobile</td>\n",
       "      <td>fyttlyf/personal//send-money-to-india///</td>\n",
       "      <td>4</td>\n",
       "      <td>15</td>\n",
       "      <td>Experiment</td>\n",
       "    </tr>\n",
       "    <tr>\n",
       "      <th>18096</th>\n",
       "      <td>2023-05-17</td>\n",
       "      <td>Laptop</td>\n",
       "      <td>fyttlyf/personal/buy/fyttlyf-benefits///</td>\n",
       "      <td>12</td>\n",
       "      <td>42</td>\n",
       "      <td>Control</td>\n",
       "    </tr>\n",
       "    <tr>\n",
       "      <th>18097</th>\n",
       "      <td>2023-05-17</td>\n",
       "      <td>Tablet</td>\n",
       "      <td>fyttlyf/enterprise/product/enterprise-pay-late...</td>\n",
       "      <td>15</td>\n",
       "      <td>13</td>\n",
       "      <td>Control</td>\n",
       "    </tr>\n",
       "    <tr>\n",
       "      <th>18098</th>\n",
       "      <td>2023-05-17</td>\n",
       "      <td>Laptop</td>\n",
       "      <td>fyttlyf/business/product/business-operations/r...</td>\n",
       "      <td>9</td>\n",
       "      <td>21</td>\n",
       "      <td>Control</td>\n",
       "    </tr>\n",
       "  </tbody>\n",
       "</table>\n",
       "<p>18099 rows × 6 columns</p>\n",
       "</div>"
      ],
      "text/plain": [
       "            Date  Device                                            Address  \\\n",
       "0     2023-05-18  Mobile  fyttlyf/business/campaign/campaigns-business/c...   \n",
       "1     2023-05-18  Laptop              fyttlyf/business/campaign/get-paid///   \n",
       "2     2023-05-18  Mobile  fyttlyf/business/campaign/campaigns-business/s...   \n",
       "3     2023-05-18  Laptop  fyttlyf/business/product/business-financial-se...   \n",
       "4     2023-05-18  Laptop  fyttlyf/business/product/business-accept-payme...   \n",
       "...          ...     ...                                                ...   \n",
       "18094 2023-05-17  Tablet    fyttlyf/personal/campaign/weekoneoffer-terms///   \n",
       "18095 2023-05-17  Mobile           fyttlyf/personal//send-money-to-india///   \n",
       "18096 2023-05-17  Laptop           fyttlyf/personal/buy/fyttlyf-benefits///   \n",
       "18097 2023-05-17  Tablet  fyttlyf/enterprise/product/enterprise-pay-late...   \n",
       "18098 2023-05-17  Laptop  fyttlyf/business/product/business-operations/r...   \n",
       "\n",
       "       Clicks  Visitors       Group  \n",
       "0         159       199     Control  \n",
       "1          18      1413  Experiment  \n",
       "2         142       759     Control  \n",
       "3         126       473     Control  \n",
       "4         129       183     Control  \n",
       "...       ...       ...         ...  \n",
       "18094      12        13     Control  \n",
       "18095       4        15  Experiment  \n",
       "18096      12        42     Control  \n",
       "18097      15        13     Control  \n",
       "18098       9        21     Control  \n",
       "\n",
       "[18099 rows x 6 columns]"
      ]
     },
     "execution_count": 9,
     "metadata": {},
     "output_type": "execute_result"
    }
   ],
   "source": [
    "abtest"
   ]
  },
  {
   "cell_type": "code",
   "execution_count": 10,
   "id": "d1c8a0db",
   "metadata": {},
   "outputs": [
    {
     "data": {
      "image/png": "[encoded data removed]",
      "text/plain": [
       "<Figure size 1200x600 with 1 Axes>"
      ]
     },
     "metadata": {},
     "output_type": "display_data"
    }
   ],
   "source": [
    "abtest['Date'] = pd.to_datetime(abtest['Date'])\n",
    "device_clicks = abtest.groupby(['Date', 'Device'])['Clicks'].sum().unstack()\n",
    "plt.figure(figsize=(12, 6))\n",
    "for device in device_clicks.columns:\n",
    "    plt.plot(device_clicks.index, device_clicks[device], label=device)\n",
    "    \n",
    "plt.title('Total Number of Clicks by Device Type')\n",
    "plt.xlabel('Date')\n",
    "plt.ylabel('Total Number of Clicks')\n",
    "plt.legend()\n",
    "plt.show()"
   ]
  },
  {
   "cell_type": "code",
   "execution_count": 11,
   "id": "b13b5f0e",
   "metadata": {},
   "outputs": [
    {
     "name": "stdout",
     "output_type": "stream",
     "text": [
      "Sample size required per group: 19\n"
     ]
    }
   ],
   "source": [
    "from scipy.stats import norm\n",
    "\n",
    "def calculate_sample_size(ctrl_conv_rate, mde, alpha, power):\n",
    "  \"\"\"\n",
    "  Calculates the sample size required for each group in an A/B test.\n",
    "\n",
    "  Args:\n",
    "      ctrl_conv_rate (float): Conversion rate of the control group (baseline).\n",
    "      mde (float): Minimum Detectable Effect (improvement or decline) as a proportion.\n",
    "      alpha (float): Significance level (usually 1 - confidence level).\n",
    "      power (float): Statistical power (1 - beta, probability of detecting effect).\n",
    "\n",
    "  Returns:\n",
    "      int: Sample size required for each group.\n",
    "  \"\"\"\n",
    "\n",
    "  # Calculate z-statistic for desired confidence level\n",
    "  z_alpha = norm.ppf(1 - alpha / 2)\n",
    "\n",
    "  # Calculate z-statistic for desired power\n",
    "  z_beta = norm.ppf(power)\n",
    "\n",
    "  # Calculate pooled conversion rate (assuming equal allocation)\n",
    "  pooled_conv_rate = (ctrl_conv_rate + (ctrl_conv_rate + mde)) / 2\n",
    "\n",
    "  # Calculate the effect size (in standard deviations)\n",
    "  effect_size = mde / pooled_conv_rate * np.sqrt(1 - pooled_conv_rate)\n",
    "\n",
    "  # Calculate the sample size per group\n",
    "  n_required = (z_alpha + z_beta) ** 2 / (effect_size**2)\n",
    "\n",
    "  return int(np.ceil(n_required))\n",
    "\n",
    "# Example usage (assuming control conversion rate of 3%)\n",
    "ctrl_conv_rate = 0.03\n",
    "mde = 0.03  # MDE of 3%\n",
    "alpha = 0.05  # 95% confidence level\n",
    "power = 0.8  # 80% statistical power\n",
    "\n",
    "sample_size_per_group = calculate_sample_size(ctrl_conv_rate, mde, alpha, power)\n",
    "\n",
    "print(\"Sample size required per group:\", sample_size_per_group)\n",
    "\n",
    "# In this example, you can compare sample_size_per_group with your actual sample size\n",
    "# to determine if it's sufficient to conclude the test.\n"
   ]
  },
  {
   "cell_type": "code",
   "execution_count": 12,
   "id": "25cd31a7",
   "metadata": {},
   "outputs": [
    {
     "name": "stdout",
     "output_type": "stream",
     "text": [
      "Result of A/B test: Indeterminate\n"
     ]
    }
   ],
   "source": [
    "import scipy.stats as stats\n",
    "\n",
    "def perform_ab_test(control_visitors, control_conversions, treatment_visitors, treatment_conversions, confidence_level=95):\n",
    "    control_conversion_rate = control_conversions / control_visitors\n",
    "    treatment_conversion_rate = treatment_conversions / treatment_visitors\n",
    "    \n",
    "    pooled_prob = (control_conversions + treatment_conversions) / (control_visitors + treatment_visitors)\n",
    "    \n",
    "    pooled_std_error = (pooled_prob * (1 - pooled_prob) * (1 / control_visitors + 1 / treatment_visitors)) ** 0.5\n",
    "    \n",
    "    z_score = (treatment_conversion_rate - control_conversion_rate) / pooled_std_error\n",
    "    \n",
    "    if confidence_level == 90:\n",
    "        critical_z = 1.645\n",
    "    elif confidence_level == 95:\n",
    "        critical_z = 1.96\n",
    "    elif confidence_level == 99:\n",
    "        critical_z = 2.576\n",
    "    else:\n",
    "        raise ValueError(\"Invalid confidence level. Choose from 90, 95, or 99.\")\n",
    "    \n",
    "    if z_score > critical_z:\n",
    "        return \"Treatment Group is Better\"\n",
    "    elif z_score < -critical_z:\n",
    "        return \"Control Group is Better\"\n",
    "    else:\n",
    "        return \"Indeterminate\"\n",
    "\n",
    "control_visitors = 1000\n",
    "control_conversions = 50\n",
    "treatment_visitors = 1000\n",
    "treatment_conversions = 70\n",
    "confidence_level = 95\n",
    "\n",
    "result = perform_ab_test(control_visitors, control_conversions, treatment_visitors, treatment_conversions, confidence_level)\n",
    "print(\"Result of A/B test:\", result)\n"
   ]
  },
  {
   "cell_type": "code",
   "execution_count": 13,
   "id": "1345116a",
   "metadata": {},
   "outputs": [
    {
     "name": "stdout",
     "output_type": "stream",
     "text": [
      "Result of A/B test: Indeterminate\n"
     ]
    },
    {
     "name": "stderr",
     "output_type": "stream",
     "text": [
      "C:\\Users\\ADMIN\\AppData\\Local\\Temp\\ipykernel_2916\\3207716801.py:5: RuntimeWarning: invalid value encountered in scalar divide\n",
      "  treatment_conversion_rate = treatment_conversions / treatment_visitors\n",
      "C:\\Users\\ADMIN\\AppData\\Local\\Temp\\ipykernel_2916\\3207716801.py:9: RuntimeWarning: divide by zero encountered in scalar divide\n",
      "  pooled_std_error = (pooled_prob * (1 - pooled_prob) * (1 / control_visitors + 1 / treatment_visitors)) ** 0.5\n"
     ]
    }
   ],
   "source": [
    "result = perform_ab_test(\n",
    "    abtest.loc[abtest['Group'] == 'Control', 'Clicks'].sum(),\n",
    "    abtest.loc[abtest['Group'] == 'Control', 'Visitors'].sum(),\n",
    "    abtest.loc[abtest['Group'] == 'Treatment', 'Clicks'].sum(),\n",
    "    abtest.loc[abtest['Group'] == 'Treatment', 'Visitors'].sum(),\n",
    "    confidence_level=95\n",
    ")\n",
    "print(\"Result of A/B test:\", result)\n"
   ]
  },
  {
   "cell_type": "code",
   "execution_count": 5,
   "id": "8f46930a",
   "metadata": {},
   "outputs": [
    {
     "name": "stderr",
     "output_type": "stream",
     "text": [
      "2024-03-17 03:29:22.566 \n",
      "  \u001b[33m\u001b[1mWarning:\u001b[0m to view this Streamlit app on a browser, run it with the following\n",
      "  command:\n",
      "\n",
      "    streamlit run C:\\ProgramData\\anaconda3\\Lib\\site-packages\\ipykernel_launcher.py [ARGUMENTS]\n"
     ]
    }
   ],
   "source": [
    "import streamlit as st\n",
    "from scipy import stats  # for statistical functions\n",
    "\n",
    "# Title and description\n",
    "st.title(\"A/B Testing Hypothesis Test\")\n",
    "st.write(\"This app performs hypothesis testing for A/B testing.\")\n",
    "\n",
    "# User input for control group\n",
    "st.header(\"Control Group\")\n",
    "control_visitors = st.number_input(\"Number of Visitors in Control Group\", min_value=1, step=1)\n",
    "control_conversions = st.number_input(\"Number of Conversions in Control Group\", min_value=0, step=1)\n",
    "\n",
    "# User input for treatment group\n",
    "st.header(\"Treatment Group\")\n",
    "treatment_visitors = st.number_input(\"Number of Visitors in Treatment Group\", min_value=1, step=1)\n",
    "treatment_conversions = st.number_input(\"Number of Conversions in Treatment Group\", min_value=0, step=1)\n",
    "\n",
    "# User input for confidence level\n",
    "st.header(\"Confidence Level\")\n",
    "confidence_level = st.selectbox(\"Select Confidence Level\", [90, 95, 99])\n",
    "\n",
    "# Perform hypothesis test\n",
    "if st.button(\"Run Hypothesis Test\"):\n",
    "  # Calculate conversion rates\n",
    "  control_conversion_rate = control_conversions / control_visitors\n",
    "  treatment_conversion_rate = treatment_conversions / treatment_visitors\n",
    "\n",
    "  # Perform chi-square test\n",
    "  contingency_table = [[control_conversions, control_visitors - control_conversions],\n",
    "                       [treatment_conversions, treatment_visitors - treatment_conversions]]\n",
    "  chi2, p_value, _, _ = stats.chi2_contingency(contingency_table)\n",
    "\n",
    "  # Determine significance level based on confidence level\n",
    "  significance_level = 1 - confidence_level / 100\n",
    "\n",
    "  # Write results\n",
    "  st.write(\"Chi-Square Statistic:\", chi2)\n",
    "  st.write(\"p-value:\", p_value)\n",
    "  if p_value < significance_level:\n",
    "    st.write(\"We reject the null hypothesis. There is a significant difference in conversion rates.\")\n",
    "  else:\n",
    "    st.write(\"We fail to reject the null hypothesis. There might not be a significant difference in conversion rates.\")\n"
   ]
  },
  {
   "cell_type": "code",
   "execution_count": 6,
   "id": "33f14dab",
   "metadata": {},
   "outputs": [
    {
     "name": "stderr",
     "output_type": "stream",
     "text": [
      "'streamlit' is not recognized as an internal or external command,\n",
      "operable program or batch file.\n"
     ]
    }
   ],
   "source": [
    "!streamlit run ab_test_app.py"
   ]
  },
  {
   "cell_type": "code",
   "execution_count": null,
   "id": "7bd83215",
   "metadata": {},
   "outputs": [],
   "source": []
  },
  {
   "cell_type": "code",
   "execution_count": null,
   "id": "5ee8ad25",
   "metadata": {},
   "outputs": [],
   "source": []
  },
  {
   "cell_type": "code",
   "execution_count": null,
   "id": "09dd2d54",
   "metadata": {},
   "outputs": [],
   "source": []
  }
 ],
 "metadata": {
  "kernelspec": {
   "display_name": "Python 3 (ipykernel)",
   "language": "python",
   "name": "python3"
  },
  "language_info": {
   "codemirror_mode": {
    "name": "ipython",
    "version": 3
   },
   "file_extension": ".py",
   "mimetype": "text/x-python",
   "name": "python",
   "nbconvert_exporter": "python",
   "pygments_lexer": "ipython3",
   "version": "3.11.5"
  }
 },
 "nbformat": 4,
 "nbformat_minor": 5
}
